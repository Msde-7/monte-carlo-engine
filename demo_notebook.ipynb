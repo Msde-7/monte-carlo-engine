{
  "cells": [
    {
      "cell_type": "code",
      "execution_count": null,
      "metadata": {
        "vscode": {
          "languageId": "plaintext"
        }
      },
      "outputs": [],
      "source": [
        "# Monte Carlo Portfolio Risk Engine\n",
        "\n",
        "This notebook demonstrates Monte Carlo VaR calculation and backtesting for portfolio risk management.\n",
        "\n",
        "## Setup\n"
      ]
    },
    {
      "cell_type": "code",
      "execution_count": null,
      "metadata": {},
      "outputs": [],
      "source": [
        "import numpy as np\n",
        "import pandas as pd\n",
        "import matplotlib.pyplot as plt\n",
        "import warnings\n",
        "warnings.filterwarnings('ignore')\n",
        "\n",
        "from mcrisk import RiskEngine\n",
        "\n",
        "pd.set_option('display.precision', 4)\n",
        "plt.rcParams['figure.figsize'] = (12, 8)\n"
      ]
    },
    {
      "cell_type": "code",
      "execution_count": null,
      "metadata": {},
      "outputs": [],
      "source": [
        "## Initialize Portfolio\n",
        "\n",
        "Create a portfolio with SPY (40%), AAPL (30%), and QQQ (30%).\n"
      ]
    },
    {
      "cell_type": "code",
      "execution_count": null,
      "metadata": {},
      "outputs": [],
      "source": [
        "tickers = ['SPY', 'AAPL', 'QQQ']\n",
        "weights = np.array([0.4, 0.3, 0.3])\n",
        "\n",
        "engine = RiskEngine(\n",
        "    tickers=tickers,\n",
        "    portfolio_weights=weights,\n",
        "    lookback=250,\n",
        "    random_seed=42\n",
        ")\n",
        "\n",
        "print(f\"Portfolio: {dict(zip(tickers, weights))}\")\n"
      ]
    },
    {
      "cell_type": "code",
      "execution_count": null,
      "metadata": {},
      "outputs": [],
      "source": [
        "## Load Data\n"
      ]
    },
    {
      "cell_type": "code",
      "execution_count": null,
      "metadata": {},
      "outputs": [],
      "source": [
        "prices = engine.load_data(period=\"2y\")\n",
        "\n",
        "print(f\"Data shape: {prices.shape}\")\n",
        "display(prices.tail())\n"
      ]
    },
    {
      "cell_type": "code",
      "execution_count": null,
      "metadata": {},
      "outputs": [],
      "source": [
        "## Monte Carlo VaR Analysis\n",
        "\n",
        "Compare different distribution approaches.\n"
      ]
    },
    {
      "cell_type": "code",
      "execution_count": null,
      "metadata": {},
      "outputs": [],
      "source": [
        "distributions = ['normal', 't', 'bootstrap']\n",
        "confidence_levels = [0.95, 0.99]\n",
        "n_simulations = 10000\n",
        "\n",
        "results = {}\n",
        "\n",
        "for dist in distributions:\n",
        "    print(f\"\\n{dist.upper()} Distribution:\")\n",
        "    results[dist] = {}\n",
        "    \n",
        "    for alpha in confidence_levels:\n",
        "        var, cvar = engine.compute_mc_var(\n",
        "            alpha=alpha,\n",
        "            sims=n_simulations,\n",
        "            distribution=dist\n",
        "        )\n",
        "        results[dist][f'VaR_{int(alpha*100)}%'] = var\n",
        "        results[dist][f'CVaR_{int(alpha*100)}%'] = cvar\n",
        "\n",
        "comparison_df = pd.DataFrame(results).T\n",
        "print(\"\\nResults Comparison:\")\n",
        "display(comparison_df.round(4))\n"
      ]
    },
    {
      "cell_type": "code",
      "execution_count": null,
      "metadata": {},
      "outputs": [],
      "source": [
        "## Visualizations\n"
      ]
    },
    {
      "cell_type": "code",
      "execution_count": null,
      "metadata": {},
      "outputs": [],
      "source": [
        "fig = engine.plot_return_distribution(confidence_levels=[0.95, 0.99])\n",
        "plt.show()\n",
        "\n",
        "fig = engine.plot_price_paths(n_paths=200)\n",
        "plt.show()\n"
      ]
    },
    {
      "cell_type": "code",
      "execution_count": null,
      "metadata": {},
      "outputs": [],
      "source": [
        "## VaR Backtesting\n"
      ]
    },
    {
      "cell_type": "code",
      "execution_count": null,
      "metadata": {},
      "outputs": [],
      "source": [
        "print(\"Running VaR backtesting...\")\n",
        "\n",
        "backtest_results = engine.backtest(\n",
        "    alpha=0.95,\n",
        "    n_simulations=5000,\n",
        "    distribution='normal'\n",
        ")\n",
        "\n",
        "print(f\"Backtest completed with {len(backtest_results)} observations\")\n",
        "display(backtest_results.head())\n"
      ]
    },
    {
      "cell_type": "code",
      "execution_count": null,
      "metadata": {},
      "outputs": [],
      "source": [
        "summary = engine.backtester.get_backtest_summary()\n",
        "display(summary)\n",
        "\n",
        "fig = engine.plot_backtest_results(confidence_level=0.95)\n",
        "plt.show()\n"
      ]
    }
  ],
  "metadata": {
    "kernelspec": {
      "display_name": "Python 3",
      "language": "python",
      "name": "python3"
    },
    "language_info": {
      "codemirror_mode": {
        "name": "ipython",
        "version": 3
      },
      "file_extension": ".py",
      "mimetype": "text/x-python",
      "name": "python",
      "nbconvert_exporter": "python",
      "pygments_lexer": "ipython3",
      "version": "3.11.9"
    }
  },
  "nbformat": 4,
  "nbformat_minor": 2
}
